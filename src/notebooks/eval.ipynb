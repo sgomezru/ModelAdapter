{
 "cells": [
  {
   "cell_type": "code",
   "execution_count": 1,
   "metadata": {},
   "outputs": [],
   "source": [
    "import os\n",
    "import sys\n",
    "\n",
    "os.environ['CUDA_VISIBLE_DEVICES'] = '3'\n",
    "sys.path.append('../')\n",
    "\n",
    "import wandb\n",
    "import torch\n",
    "import numpy as np\n",
    "import pandas as pd\n",
    "import matplotlib.pyplot as plt\n",
    "import seaborn as sns\n",
    "from batchgenerators.transforms.abstract_transforms import Compose\n",
    "from batchgenerators.transforms.crop_and_pad_transforms import CenterCropTransform\n",
    "from batchgenerators.transforms.utility_transforms import NumpyToTensor\n",
    "from torch.utils.data import DataLoader\n",
    "from data_utils import get_eval_data\n",
    "from dataset import MultisiteMRIProstateDataset\n",
    "from model.unet import get_unet\n",
    "from losses import DiceScorePMRI\n",
    "from utils import epoch_average\n",
    "from monai.metrics import DiceMetric\n",
    "from omegaconf import OmegaConf\n",
    "from pathlib import Path\n",
    "from typing import Dict"
   ]
  },
  {
   "cell_type": "code",
   "execution_count": 2,
   "metadata": {},
   "outputs": [],
   "source": [
    "test_vendors = ['philips', 'ge']\n",
    "\n",
    "LOG = False\n",
    "ITERATION = 0\n",
    "DATA_KEY = 'prostate'\n",
    "# VENDOR = test_vendors[0]\n",
    "VENDOR = 'siemens'\n",
    "LOAD_ONLY_PRESENT = False\n",
    "extra_description = ''\n",
    "\n",
    "cfg = OmegaConf.load('../configs/conf.yaml')\n",
    "OmegaConf.update(cfg, 'run.iteration', ITERATION)\n",
    "OmegaConf.update(cfg, 'run.data_key', DATA_KEY)\n",
    "\n",
    "unet_name = 'monai-64-4-4'\n",
    "args = unet_name.split('-')\n",
    "cfg.unet[DATA_KEY].pre = unet_name\n",
    "cfg.unet[DATA_KEY].arch = args[0]\n",
    "cfg.unet[DATA_KEY].n_filters_init = None if unet_name == 'swinunetr' else int(args[1])\n",
    "cfg.unet[DATA_KEY].training.vendor = VENDOR\n",
    "cfg.unet[DATA_KEY].training.load_only_present = LOAD_ONLY_PRESENT\n",
    "cfg.wandb.project = f'{DATA_KEY}_{unet_name}_{ITERATION}{extra_description}'\n",
    "cfg.wandb.log = LOG\n",
    "# Set cfg.format to \"numpy\" for evaluation, otherwise don't modify it or set to \"torch\" for training\n",
    "cfg.format = 'numpy'\n",
    "cfg.unet[DATA_KEY].training.subset = True # Applies for evaluation dataset only\n",
    "\n",
    "if args[0] == 'monai':\n",
    "    cfg.unet[DATA_KEY].depth = int(args[2])\n",
    "    cfg.unet[DATA_KEY].num_res_units = int(args[3])\n",
    "\n",
    "if LOG:\n",
    "    wandb.init(\n",
    "        project=cfg.wandb.project,\n",
    "        config={\n",
    "            \"learning_rate\": cfg.unet[DATA_KEY].training.lr,\n",
    "            \"architecture\": unet_name,\n",
    "            \"dataset\": DATA_KEY\n",
    "        }\n",
    "    )"
   ]
  },
  {
   "cell_type": "code",
   "execution_count": 3,
   "metadata": {},
   "outputs": [],
   "source": [
    "unet, state_dict = get_unet(cfg, update_cfg_with_swivels=False, return_state_dict=True)\n",
    "device = torch.device(\"cuda\" if torch.cuda.is_available() else \"cpu\")\n",
    "unet.to(device);"
   ]
  },
  {
   "cell_type": "code",
   "execution_count": 3,
   "metadata": {},
   "outputs": [
    {
     "data": {
      "text/plain": [
       "(1955, 445, 966)"
      ]
     },
     "execution_count": 3,
     "metadata": {},
     "output_type": "execute_result"
    }
   ],
   "source": [
    "# pmri_data_path = Path('/data/Data/PMRI').resolve()\n",
    "# data_train = MultisiteMRIProstateDataset(pmri_data_path, 'siemens', 'train', load_only_present=False)\n",
    "# data_valid = MultisiteMRIProstateDataset(pmri_data_path, 'siemens', 'valid', load_only_present=False)\n",
    "# data_test = MultisiteMRIProstateDataset(pmri_data_path, 'philips', 'all', load_only_present=False)\n",
    "# len(data_train), len(data_valid), len(data_test)"
   ]
  },
  {
   "cell_type": "code",
   "execution_count": 4,
   "metadata": {},
   "outputs": [
    {
     "name": "stdout",
     "output_type": "stream",
     "text": [
      "Loading evaluation PMRI dataset...\n"
     ]
    },
    {
     "name": "stdout",
     "output_type": "stream",
     "text": [
      "445\n"
     ]
    }
   ],
   "source": [
    "data = get_eval_data(train_set=False, val_set=False, eval_set=True, cfg=cfg)\n",
    "eval_dataset = data['eval']\n",
    "print(len(eval_dataset))"
   ]
  },
  {
   "cell_type": "code",
   "execution_count": 15,
   "metadata": {},
   "outputs": [],
   "source": [
    "b = DiceMetric()\n",
    "d = DataLoader(eval_dataset, batch_size=8, shuffle=False, drop_last=False)"
   ]
  },
  {
   "cell_type": "code",
   "execution_count": 17,
   "metadata": {},
   "outputs": [
    {
     "name": "stdout",
     "output_type": "stream",
     "text": [
      "torch.Size([8, 1, 256, 256])\n"
     ]
    }
   ],
   "source": [
    "batch = None\n",
    "for ba in d:\n",
    "    batch = ba\n",
    "    break\n",
    "print(batch['input'].shape)"
   ]
  },
  {
   "cell_type": "code",
   "execution_count": 18,
   "metadata": {},
   "outputs": [
    {
     "data": {
      "text/plain": [
       "torch.Size([1, 256, 256])"
      ]
     },
     "execution_count": 18,
     "metadata": {},
     "output_type": "execute_result"
    }
   ],
   "source": [
    "img = batch['input'][0]\n",
    "img.shape"
   ]
  },
  {
   "cell_type": "code",
   "execution_count": null,
   "metadata": {},
   "outputs": [],
   "source": [
    "plt.imshow(batch['input'][0])"
   ]
  },
  {
   "cell_type": "code",
   "execution_count": 12,
   "metadata": {},
   "outputs": [],
   "source": [
    "def eval_set(cfg, model, dataset):\n",
    "    if cfg.run.data_key == 'prostate':\n",
    "        dataloader = DataLoader(dataset, batch_size=16,\n",
    "                                shuffle=False, drop_last=False)\n",
    "\n",
    "        eval_metrics = {\n",
    "            \"Dice Score\": DiceMetric()\n",
    "        }\n",
    "\n",
    "        metrics = eval_pmri_set(\n",
    "            model=model,\n",
    "            dataloader=dataloader,\n",
    "            eval_metrics=eval_metrics\n",
    "        )\n",
    "    else:\n",
    "        raise ValueError(\n",
    "            f'Invalid data key. No config for dataset named {cfg.run.data_key}'\n",
    "        )\n",
    "    return metrics\n",
    "\n",
    "@torch.no_grad()\n",
    "def eval_pmri_set(model, dataloader, eval_metrics):\n",
    "    model.eval()\n",
    "    epoch_metrics = {key: [] for key in eval_metrics.keys()}\n",
    "    batch_sizes = []\n",
    "    for batch in dataloader:\n",
    "        input_ = batch['input'] # .float()\n",
    "        target = batch['target'] # .long()\n",
    "        batch_sizes.append(input_.shape[0])\n",
    "        out = model(input_.cuda()).detach().cpu()\n",
    "        for key, metric in eval_metrics.items():\n",
    "            print(out.shape)\n",
    "            print(target.shape)\n",
    "            computed_metric = metric(out, target).detach().mean().cpu()\n",
    "            epoch_metrics[key].append(metric(out, target).detach().mean().cpu())\n",
    "\n",
    "    for key, epoch_scores in epoch_metrics.items():\n",
    "        epoch_metrics[key] = epoch_average(epoch_scores, batch_sizes)\n",
    "    return epoch_metrics\n",
    "\n",
    "def get_df_from_dict(cfg, metrics: Dict):\n",
    "    # convert dict into seaborn-friendly pandas format\n",
    "    df = pd.DataFrame.from_dict(metrics).T\n",
    "    df['Domain'] = df.index\n",
    "    df.reset_index(drop=True, inplace=True)\n",
    "    df = pd.melt(\n",
    "        df, \n",
    "        id_vars=['Domain'],\n",
    "        value_vars=df.columns.drop('Domain')\n",
    "    )\n",
    "    # add additional identifiers from config\n",
    "    df['Iteration'] = cfg.run.iteration\n",
    "    df['Model'] = cfg.unet[cfg.run.data_key].pre\n",
    "    df['Data'] = cfg.run.data_key\n",
    "    return df\n"
   ]
  },
  {
   "cell_type": "code",
   "execution_count": 13,
   "metadata": {},
   "outputs": [
    {
     "name": "stdout",
     "output_type": "stream",
     "text": [
      "torch.Size([16, 2, 256, 256])\n",
      "torch.Size([16, 1, 256, 256])\n",
      "torch.Size([16, 2, 256, 256])\n",
      "torch.Size([16, 1, 256, 256])\n",
      "torch.Size([16, 2, 256, 256])\n",
      "torch.Size([16, 1, 256, 256])\n",
      "torch.Size([16, 2, 256, 256])\n",
      "torch.Size([16, 1, 256, 256])\n",
      "torch.Size([16, 2, 256, 256])\n",
      "torch.Size([16, 1, 256, 256])\n",
      "torch.Size([16, 2, 256, 256])\n",
      "torch.Size([16, 1, 256, 256])\n",
      "torch.Size([16, 2, 256, 256])\n",
      "torch.Size([16, 1, 256, 256])\n",
      "torch.Size([16, 2, 256, 256])\n",
      "torch.Size([16, 1, 256, 256])\n",
      "torch.Size([16, 2, 256, 256])\n",
      "torch.Size([16, 1, 256, 256])\n",
      "torch.Size([16, 2, 256, 256])\n",
      "torch.Size([16, 1, 256, 256])\n",
      "torch.Size([16, 2, 256, 256])\n",
      "torch.Size([16, 1, 256, 256])\n",
      "torch.Size([16, 2, 256, 256])\n",
      "torch.Size([16, 1, 256, 256])\n",
      "torch.Size([16, 2, 256, 256])\n",
      "torch.Size([16, 1, 256, 256])\n",
      "torch.Size([16, 2, 256, 256])\n",
      "torch.Size([16, 1, 256, 256])\n",
      "torch.Size([16, 2, 256, 256])\n",
      "torch.Size([16, 1, 256, 256])\n",
      "torch.Size([16, 2, 256, 256])\n",
      "torch.Size([16, 1, 256, 256])\n",
      "torch.Size([16, 2, 256, 256])\n",
      "torch.Size([16, 1, 256, 256])\n",
      "torch.Size([16, 2, 256, 256])\n",
      "torch.Size([16, 1, 256, 256])\n",
      "torch.Size([16, 2, 256, 256])\n",
      "torch.Size([16, 1, 256, 256])\n",
      "torch.Size([16, 2, 256, 256])\n",
      "torch.Size([16, 1, 256, 256])\n",
      "torch.Size([16, 2, 256, 256])\n",
      "torch.Size([16, 1, 256, 256])\n",
      "torch.Size([16, 2, 256, 256])\n",
      "torch.Size([16, 1, 256, 256])\n",
      "torch.Size([16, 2, 256, 256])\n",
      "torch.Size([16, 1, 256, 256])\n",
      "torch.Size([16, 2, 256, 256])\n",
      "torch.Size([16, 1, 256, 256])\n",
      "torch.Size([16, 2, 256, 256])\n",
      "torch.Size([16, 1, 256, 256])\n",
      "torch.Size([16, 2, 256, 256])\n",
      "torch.Size([16, 1, 256, 256])\n",
      "torch.Size([16, 2, 256, 256])\n",
      "torch.Size([16, 1, 256, 256])\n",
      "torch.Size([13, 2, 256, 256])\n",
      "torch.Size([13, 1, 256, 256])\n"
     ]
    },
    {
     "data": {
      "image/png": "[encoded data removed]",
      "text/plain": [
       "<Figure size 640x480 with 1 Axes>"
      ]
     },
     "metadata": {},
     "output_type": "display_data"
    }
   ],
   "source": [
    "metrics = {}\n",
    "\n",
    "for key in data.keys():\n",
    "    metrics[key] = eval_set(\n",
    "        cfg=cfg,\n",
    "        model=unet,\n",
    "        dataset=data[key]\n",
    "    )\n",
    "\n",
    "df = get_df_from_dict(cfg, metrics)\n",
    "\n",
    "sns.lineplot(\n",
    "    data=df, \n",
    "    x='Domain', \n",
    "    y='value', \n",
    "    hue='Model',\n",
    "    style='variable',\n",
    "    markers=True, \n",
    "    dashes=False, \n",
    "    markersize=10, \n",
    "    marker='x'\n",
    ")\n",
    "\n",
    "plt.show()"
   ]
  }
 ],
 "metadata": {
  "kernelspec": {
   "display_name": "Python 3",
   "language": "python",
   "name": "python3"
  },
  "language_info": {
   "codemirror_mode": {
    "name": "ipython",
    "version": 3
   },
   "file_extension": ".py",
   "mimetype": "text/x-python",
   "name": "python",
   "nbconvert_exporter": "python",
   "pygments_lexer": "ipython3",
   "version": "3.10.12"
  }
 },
 "nbformat": 4,
 "nbformat_minor": 2
}
