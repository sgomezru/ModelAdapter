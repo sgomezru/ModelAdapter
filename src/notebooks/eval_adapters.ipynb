{
 "cells": [
  {
   "cell_type": "code",
   "execution_count": 1,
   "metadata": {},
   "outputs": [],
   "source": [
    "import sys\n",
    "import pickle\n",
    "import numpy as np\n",
    "from omegaconf import OmegaConf\n",
    "\n",
    "sys.path.append('../')"
   ]
  },
  {
   "cell_type": "code",
   "execution_count": 2,
   "metadata": {},
   "outputs": [],
   "source": [
    "LOG = False\n",
    "ITERATION = 1\n",
    "AUGMENT = False\n",
    "DATA_KEY = 'prostate'\n",
    "extra_description = 'moredata'\n",
    "\n",
    "cfg = OmegaConf.load('../configs/conf.yaml')\n",
    "OmegaConf.update(cfg, 'run.iteration', ITERATION)\n",
    "OmegaConf.update(cfg, 'run.data_key', DATA_KEY)\n",
    "\n",
    "unet_name = 'monai-64-4-4'\n",
    "args = unet_name.split('-')\n",
    "cfg.unet[DATA_KEY].pre = unet_name\n",
    "cfg.unet[DATA_KEY].arch = args[0]\n",
    "cfg.unet[DATA_KEY].n_filters_init = None if unet_name == 'swinunetr' else int(args[1])\n",
    "cfg.wandb.project = f'{DATA_KEY}_{unet_name}_{ITERATION}{extra_description}'\n",
    "cfg.wandb.log = LOG\n",
    "\n",
    "if args[0] == 'monai':\n",
    "    cfg.unet[DATA_KEY].depth = int(args[2])\n",
    "    cfg.unet[DATA_KEY].num_res_units = int(args[3])\n"
   ]
  },
  {
   "cell_type": "code",
   "execution_count": 3,
   "metadata": {},
   "outputs": [
    {
     "name": "stdout",
     "output_type": "stream",
     "text": [
      "Loading IPCA of 2 dims\n",
      "Max retained variance with all components: 0.16919846756572138\n",
      "Loading activation maps obtained with IPCA of 2 dims\n",
      "Shape of activations: (986, 2)\n",
      "Loading IPCA of 4 dims\n",
      "Max retained variance with all components: 0.24581898489647303\n",
      "Loading activation maps obtained with IPCA of 4 dims\n",
      "Shape of activations: (986, 4)\n",
      "Loading IPCA of 8 dims\n",
      "Max retained variance with all components: 0.33115446005511306\n",
      "Loading activation maps obtained with IPCA of 8 dims\n",
      "Shape of activations: (986, 8)\n",
      "Loading IPCA of 16 dims\n",
      "Max retained variance with all components: 0.4159668188844243\n",
      "Loading activation maps obtained with IPCA of 16 dims\n",
      "Shape of activations: (986, 16)\n",
      "Loading IPCA of 32 dims\n",
      "Max retained variance with all components: 0.5098525702053119\n",
      "Loading activation maps obtained with IPCA of 32 dims\n",
      "Shape of activations: (986, 32)\n",
      "Loading IPCA of 64 dims\n",
      "Max retained variance with all components: 0.6223144601442684\n",
      "Loading activation maps obtained with IPCA of 64 dims\n",
      "Shape of activations: (986, 64)\n"
     ]
    }
   ],
   "source": [
    "N_DIMS = [2, 4, 8, 16, 32, 64]\n",
    "\n",
    "layer_names = [\n",
    "    'model.1.submodule.1.submodule.1.submodule.0.conv.unit3.conv',\n",
    "    'model.1.submodule.1.submodule.2.0.conv'\n",
    "]\n",
    "name = layer_names[0].replace('.', '_')\n",
    "if AUGMENT: name += '_aug'\n",
    "\n",
    "for n_dims in N_DIMS:\n",
    "    print(f'Loading IPCA of {n_dims} dims')\n",
    "    with open(f'/workspace/src/out/pca/{cfg.wandb.project}_{name}_{n_dims}dim.pkl',  'rb') as f:\n",
    "        ipca = pickle.load(f)\n",
    "    evr = ipca.explained_variance_ratio_\n",
    "    cum_evr = np.cumsum(evr)\n",
    "    # num_comp = np.argmax(cum_evr >= 0.95) + 1\n",
    "    print(f'Max retained variance with all components: {cum_evr[-1]}')\n",
    "    print(f'Loading activation maps obtained with IPCA of {n_dims} dims')\n",
    "    act = np.load(f'/workspace/src/out/activations/{cfg.wandb.project}_{name}_activations_{n_dims}dims.npy')\n",
    "    print(f'Shape of activations: {act.shape}')"
   ]
  }
 ],
 "metadata": {
  "kernelspec": {
   "display_name": "Python 3",
   "language": "python",
   "name": "python3"
  },
  "language_info": {
   "codemirror_mode": {
    "name": "ipython",
    "version": 3
   },
   "file_extension": ".py",
   "mimetype": "text/x-python",
   "name": "python",
   "nbconvert_exporter": "python",
   "pygments_lexer": "ipython3",
   "version": "3.10.12"
  }
 },
 "nbformat": 4,
 "nbformat_minor": 2
}
